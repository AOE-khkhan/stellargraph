{
 "cells": [
  {
   "cell_type": "markdown",
   "metadata": {},
   "source": [
    "# Stellargraph example: Graph Attention Network (GAT) on the CORA citation dataset"
   ]
  },
  {
   "cell_type": "markdown",
   "metadata": {},
   "source": [
    "Import NetworkX and stellar:"
   ]
  },
  {
   "cell_type": "code",
   "execution_count": 1,
   "metadata": {},
   "outputs": [
    {
     "name": "stderr",
     "output_type": "stream",
     "text": [
      "Using TensorFlow backend.\n",
      "/Users/doc019/.envs/stellar_dev/lib/python3.6/importlib/_bootstrap.py:219: ImportWarning: can't resolve package from __spec__ or __package__, falling back on __name__ and __path__\n",
      "  return f(*args, **kwds)\n",
      "/Users/doc019/.envs/stellar_dev/lib/python3.6/importlib/_bootstrap.py:219: ImportWarning: can't resolve package from __spec__ or __package__, falling back on __name__ and __path__\n",
      "  return f(*args, **kwds)\n"
     ]
    }
   ],
   "source": [
    "import networkx as nx\n",
    "import pandas as pd\n",
    "import os\n",
    "\n",
    "import stellargraph as sg\n",
    "from stellargraph.mapper import FullBatchNodeGenerator\n",
    "from stellargraph.layer import GAT\n",
    "\n",
    "from keras import layers, optimizers, losses, metrics, callbacks, Model\n",
    "from sklearn import preprocessing, feature_extraction, model_selection"
   ]
  },
  {
   "cell_type": "markdown",
   "metadata": {},
   "source": [
    "### Loading the CORA network"
   ]
  },
  {
   "cell_type": "markdown",
   "metadata": {},
   "source": [
    "**Downloading the CORA dataset:**\n",
    "    \n",
    "The dataset used in this demo can be downloaded from https://linqs-data.soe.ucsc.edu/public/lbc/cora.tgz\n",
    "\n",
    "The following is the description of the dataset:\n",
    "> The Cora dataset consists of 2708 scientific publications classified into one of seven classes.\n",
    "> The citation network consists of 5429 links. Each publication in the dataset is described by a\n",
    "> 0/1-valued word vector indicating the absence/presence of the corresponding word from the dictionary.\n",
    "> The dictionary consists of 1433 unique words. The README file in the dataset provides more details.\n",
    "\n",
    "Download and unzip the cora.tgz file to a location on your computer and set the `data_dir` variable to\n",
    "point to the location of the dataset (the directory containing \"cora.cites\" and \"cora.content\")."
   ]
  },
  {
   "cell_type": "code",
   "execution_count": 2,
   "metadata": {},
   "outputs": [],
   "source": [
    "data_dir = os.path.expanduser(\"~/data/cora\")"
   ]
  },
  {
   "cell_type": "markdown",
   "metadata": {},
   "source": [
    "Load the graph from edgelist"
   ]
  },
  {
   "cell_type": "code",
   "execution_count": 3,
   "metadata": {},
   "outputs": [],
   "source": [
    "edgelist = pd.read_csv(os.path.join(data_dir, \"cora.cites\"), header=None, names=[\"source\", \"target\"], sep=\"\\t\")\n",
    "edgelist[\"label\"] = \"cites\""
   ]
  },
  {
   "cell_type": "code",
   "execution_count": 4,
   "metadata": {},
   "outputs": [],
   "source": [
    "Gnx = nx.from_pandas_edgelist(edgelist, edge_attr=\"label\")"
   ]
  },
  {
   "cell_type": "code",
   "execution_count": 5,
   "metadata": {},
   "outputs": [],
   "source": [
    "nx.set_node_attributes(Gnx, \"paper\", \"label\")"
   ]
  },
  {
   "cell_type": "markdown",
   "metadata": {},
   "source": [
    "Load the features and subject for the nodes"
   ]
  },
  {
   "cell_type": "code",
   "execution_count": 6,
   "metadata": {},
   "outputs": [],
   "source": [
    "feature_names = [\"w_{}\".format(ii) for ii in range(1433)]\n",
    "column_names =  feature_names + [\"subject\"]\n",
    "node_data = pd.read_csv(os.path.join(data_dir, \"cora.content\"), header=None, names=column_names, sep=\"\\t\")"
   ]
  },
  {
   "cell_type": "markdown",
   "metadata": {},
   "source": [
    "We aim to train a graph-ML model that will predict the \"subject\" attribute on the nodes. These subjects are one of 7 categories:"
   ]
  },
  {
   "cell_type": "code",
   "execution_count": 7,
   "metadata": {},
   "outputs": [
    {
     "data": {
      "text/plain": [
       "{'Case_Based',\n",
       " 'Genetic_Algorithms',\n",
       " 'Neural_Networks',\n",
       " 'Probabilistic_Methods',\n",
       " 'Reinforcement_Learning',\n",
       " 'Rule_Learning',\n",
       " 'Theory'}"
      ]
     },
     "execution_count": 7,
     "metadata": {},
     "output_type": "execute_result"
    }
   ],
   "source": [
    "set(node_data[\"subject\"])"
   ]
  },
  {
   "cell_type": "markdown",
   "metadata": {},
   "source": [
    "### Splitting the data"
   ]
  },
  {
   "cell_type": "markdown",
   "metadata": {},
   "source": [
    "For machine learning we want to take a subset of the nodes for training, and use the rest for validation and testing. We'll use scikit-learn again to do this.\n",
    "\n",
    "Here we're taking 140 node labels for training, 500 for validation, and the rest for testing."
   ]
  },
  {
   "cell_type": "code",
   "execution_count": 8,
   "metadata": {},
   "outputs": [],
   "source": [
    "train_data, test_data = model_selection.train_test_split(node_data, train_size=140, test_size=None, stratify=node_data['subject'])\n",
    "val_data, test_data = model_selection.train_test_split(test_data, train_size=500, test_size=None, stratify=test_data['subject'])"
   ]
  },
  {
   "cell_type": "markdown",
   "metadata": {},
   "source": [
    "Note using stratified sampling gives the following counts:"
   ]
  },
  {
   "cell_type": "code",
   "execution_count": 9,
   "metadata": {},
   "outputs": [
    {
     "data": {
      "text/plain": [
       "Counter({'Neural_Networks': 42,\n",
       "         'Probabilistic_Methods': 22,\n",
       "         'Genetic_Algorithms': 22,\n",
       "         'Theory': 18,\n",
       "         'Case_Based': 16,\n",
       "         'Reinforcement_Learning': 11,\n",
       "         'Rule_Learning': 9})"
      ]
     },
     "execution_count": 9,
     "metadata": {},
     "output_type": "execute_result"
    }
   ],
   "source": [
    "from collections import Counter\n",
    "Counter(train_data['subject'])"
   ]
  },
  {
   "cell_type": "markdown",
   "metadata": {},
   "source": [
    "The training set has class imbalance that might need to be compensated, e.g., via using a weighted cross-entropy loss in model training, with class weights inversely proportional to class support. However, we will ignore the class imbalance in this example, for simplicity."
   ]
  },
  {
   "cell_type": "markdown",
   "metadata": {},
   "source": [
    "### Converting to numeric arrays"
   ]
  },
  {
   "cell_type": "markdown",
   "metadata": {},
   "source": [
    "For our categorical target, we will use one-hot vectors that will be fed into a soft-max Keras layer during training. To do this conversion ..."
   ]
  },
  {
   "cell_type": "code",
   "execution_count": 10,
   "metadata": {},
   "outputs": [],
   "source": [
    "target_encoding = feature_extraction.DictVectorizer(sparse=False)\n",
    "\n",
    "train_targets = target_encoding.fit_transform(train_data[[\"subject\"]].to_dict('records'))\n",
    "val_targets = target_encoding.transform(val_data[[\"subject\"]].to_dict('records'))\n",
    "test_targets = target_encoding.transform(test_data[[\"subject\"]].to_dict('records'))"
   ]
  },
  {
   "cell_type": "markdown",
   "metadata": {},
   "source": [
    "We now do the same for the node attributes we want to use to predict the subject. These are the feature vectors that the Keras model will use as input. The CORA dataset contains attributes 'w_x' that correspond to words found in that publication. If a word occurs more than once in a publication the relevant attribute will be set to one, otherwise it will be zero."
   ]
  },
  {
   "cell_type": "code",
   "execution_count": 11,
   "metadata": {},
   "outputs": [],
   "source": [
    "node_features = node_data[feature_names]"
   ]
  },
  {
   "cell_type": "markdown",
   "metadata": {},
   "source": [
    "## Creating the GAT model in Keras"
   ]
  },
  {
   "cell_type": "markdown",
   "metadata": {},
   "source": [
    "Now create a StellarGraph object from the NetworkX graph and the node features and targets. It is StellarGraph objects that we use in this library to perform machine learning tasks on."
   ]
  },
  {
   "cell_type": "code",
   "execution_count": 12,
   "metadata": {},
   "outputs": [],
   "source": [
    "G = sg.StellarGraph(Gnx, node_features=node_features)"
   ]
  },
  {
   "cell_type": "code",
   "execution_count": 13,
   "metadata": {},
   "outputs": [
    {
     "name": "stdout",
     "output_type": "stream",
     "text": [
      "StellarGraph: Undirected multigraph\n",
      " Nodes: 2708, Edges: 5278\n",
      "\n",
      " Node types:\n",
      "  paper: [2708]\n",
      "    Edge types: paper-cites->paper\n",
      "\n",
      " Edge types:\n",
      "    paper-cites->paper: [5278]\n",
      "\n"
     ]
    }
   ],
   "source": [
    "print(G.info())"
   ]
  },
  {
   "cell_type": "markdown",
   "metadata": {},
   "source": [
    "To feed data from the graph to the Keras model we need a generator. Since GAT is a full-batch model, we use the `FullBatchNodeGenerator` class to feed node features and graph adjacency matrix to the model."
   ]
  },
  {
   "cell_type": "code",
   "execution_count": 14,
   "metadata": {},
   "outputs": [],
   "source": [
    "generator = FullBatchNodeGenerator(G)"
   ]
  },
  {
   "cell_type": "markdown",
   "metadata": {},
   "source": [
    "For training we map only the training nodes returned from our splitter and the target values."
   ]
  },
  {
   "cell_type": "code",
   "execution_count": 15,
   "metadata": {},
   "outputs": [],
   "source": [
    "train_gen = generator.flow(train_data.index, train_targets)"
   ]
  },
  {
   "cell_type": "markdown",
   "metadata": {},
   "source": [
    "Now we can specify our machine learning model, we need a few more parameters for this:\n",
    "\n",
    " * the `layer_sizes` is a list of hidden feature sizes of each layer in the model. In this example we use two GAT layers with 8-dimensional hidden node features at each layer.\n",
    " * `attn_heads` is the number of attention heads in all but the last GAT layer in the model\n",
    " * `activations` is a list of activations applied to each layer's output\n",
    " * Arguments such as `bias`, `in_dropout`, `attn_dropout` are internal parameters of the model, execute `?GAT` for details. "
   ]
  },
  {
   "cell_type": "code",
   "execution_count": 16,
   "metadata": {},
   "outputs": [
    {
     "name": "stdout",
     "output_type": "stream",
     "text": [
      "attn_heads for layer 0: 8\n",
      "attn_heads for layer 1: 1\n"
     ]
    }
   ],
   "source": [
    "gat = GAT(\n",
    "    layer_sizes=[8, 8],\n",
    "    attn_heads=[8, 1],\n",
    "    generator=generator,\n",
    "    bias=True,\n",
    "    in_dropout=0.5,\n",
    "    attn_dropout=0.5,\n",
    "    activations=[\"elu\",\"elu\"],\n",
    "    normalize=None,\n",
    ")"
   ]
  },
  {
   "cell_type": "code",
   "execution_count": 17,
   "metadata": {},
   "outputs": [],
   "source": [
    "# Expose the input and output tensors of the GAT model for node prediction, via GAT.node_model() method:\n",
    "x_inp, x_out = gat.node_model()"
   ]
  },
  {
   "cell_type": "markdown",
   "metadata": {},
   "source": [
    "Note that `x_inp` is a list of two input tensors, one for node features, the other for graph adjacency matrix"
   ]
  },
  {
   "cell_type": "code",
   "execution_count": 18,
   "metadata": {},
   "outputs": [
    {
     "data": {
      "text/plain": [
       "[<tf.Tensor 'input_1:0' shape=(?, 1433) dtype=float32>,\n",
       " <tensorflow.python.framework.sparse_tensor.SparseTensor at 0x13002a748>]"
      ]
     },
     "execution_count": 18,
     "metadata": {},
     "output_type": "execute_result"
    }
   ],
   "source": [
    "x_inp"
   ]
  },
  {
   "cell_type": "markdown",
   "metadata": {},
   "source": [
    "Now we add the final layer to predict the 7 categories using Keras Dense layer with softmax activation."
   ]
  },
  {
   "cell_type": "code",
   "execution_count": 19,
   "metadata": {},
   "outputs": [],
   "source": [
    "# Softmax over predictions\n",
    "predictions = layers.Activation(activation=\"softmax\")(x_out)\n",
    "#predictions = layers.Dense(units=train_targets.shape[1], activation=\"softmax\")(x_out)"
   ]
  },
  {
   "cell_type": "code",
   "execution_count": 20,
   "metadata": {},
   "outputs": [],
   "source": [
    "# Dense layer over embeddings\n",
    "predictions = layers.Dense(units=train_targets.shape[1], activation=\"softmax\")(x_out)"
   ]
  },
  {
   "cell_type": "code",
   "execution_count": 21,
   "metadata": {},
   "outputs": [
    {
     "data": {
      "text/plain": [
       "TensorShape([Dimension(None), Dimension(7)])"
      ]
     },
     "execution_count": 21,
     "metadata": {},
     "output_type": "execute_result"
    }
   ],
   "source": [
    "predictions.shape"
   ]
  },
  {
   "cell_type": "markdown",
   "metadata": {},
   "source": [
    "### Training the model"
   ]
  },
  {
   "cell_type": "markdown",
   "metadata": {},
   "source": [
    "Now let's create the actual Keras model with the input tensors `x_inp` and output tensors being the predictions `predictions` from the final dense layer"
   ]
  },
  {
   "cell_type": "code",
   "execution_count": 22,
   "metadata": {},
   "outputs": [],
   "source": [
    "model = Model(inputs=x_inp, outputs=predictions)\n",
    "model.compile(\n",
    "    optimizer=optimizers.Adam(lr=0.005),\n",
    "    loss=losses.categorical_crossentropy,\n",
    "    weighted_metrics=[\"acc\"],\n",
    ")"
   ]
  },
  {
   "cell_type": "markdown",
   "metadata": {},
   "source": [
    "Train the model, keeping track of its loss and accuracy on the training set, and its generalisation performance on the validation set (we need to create another generator over the validation data for this)"
   ]
  },
  {
   "cell_type": "code",
   "execution_count": 23,
   "metadata": {},
   "outputs": [],
   "source": [
    "val_gen = generator.flow(val_data.index, val_targets)"
   ]
  },
  {
   "cell_type": "markdown",
   "metadata": {},
   "source": [
    "Create callbacks for early stopping (if validation accuracy stops improving) and best model checkpoint saving:"
   ]
  },
  {
   "cell_type": "code",
   "execution_count": 24,
   "metadata": {},
   "outputs": [],
   "source": [
    "if not os.path.isdir(\"logs\"):\n",
    "    os.makedirs(\"logs\")\n",
    "es_callback = callbacks.EarlyStopping(monitor=\"val_weighted_acc\", patience=50)  # patience is the number of epochs to wait before early stopping in case of no further improvement\n",
    "mc_callback = callbacks.ModelCheckpoint(\n",
    "    \"logs/best_model.h5\",\n",
    "    monitor=\"val_weighted_acc\",\n",
    "    save_best_only=True,\n",
    "    save_weights_only=True,\n",
    ")"
   ]
  },
  {
   "cell_type": "markdown",
   "metadata": {},
   "source": [
    "Train the model"
   ]
  },
  {
   "cell_type": "code",
   "execution_count": 25,
   "metadata": {},
   "outputs": [
    {
     "name": "stdout",
     "output_type": "stream",
     "text": [
      "WARNING:tensorflow:From /Users/doc019/.envs/stellar_dev/lib/python3.6/site-packages/tensorflow/python/ops/sparse_grad.py:281: calling sparse_reduce_sum (from tensorflow.python.ops.sparse_ops) with keep_dims is deprecated and will be removed in a future version.\n",
      "Instructions for updating:\n",
      "keep_dims is deprecated, use keepdims instead\n"
     ]
    },
    {
     "name": "stderr",
     "output_type": "stream",
     "text": [
      "/Users/doc019/.envs/stellar_dev/lib/python3.6/site-packages/tensorflow/python/ops/gradients_impl.py:112: UserWarning: Converting sparse IndexedSlices to a dense Tensor of unknown shape. This may consume a large amount of memory.\n",
      "  \"Converting sparse IndexedSlices to a dense Tensor of unknown shape. \"\n"
     ]
    },
    {
     "name": "stdout",
     "output_type": "stream",
     "text": [
      "Epoch 1/200\n",
      " - 2s - loss: 1.9692 - weighted_acc: 0.1857 - val_loss: 1.8592 - val_weighted_acc: 0.2540\n",
      "Epoch 2/200\n",
      " - 0s - loss: 1.8956 - weighted_acc: 0.1857 - val_loss: 1.7853 - val_weighted_acc: 0.2700\n",
      "Epoch 3/200\n",
      " - 0s - loss: 1.8055 - weighted_acc: 0.2714 - val_loss: 1.7220 - val_weighted_acc: 0.3720\n",
      "Epoch 4/200\n",
      " - 0s - loss: 1.7321 - weighted_acc: 0.3786 - val_loss: 1.6669 - val_weighted_acc: 0.4180\n",
      "Epoch 5/200\n",
      " - 0s - loss: 1.6408 - weighted_acc: 0.3857 - val_loss: 1.6164 - val_weighted_acc: 0.4420\n",
      "Epoch 6/200\n",
      " - 0s - loss: 1.5599 - weighted_acc: 0.4857 - val_loss: 1.5651 - val_weighted_acc: 0.4760\n",
      "Epoch 7/200\n",
      " - 0s - loss: 1.5137 - weighted_acc: 0.5214 - val_loss: 1.5130 - val_weighted_acc: 0.5180\n",
      "Epoch 8/200\n",
      " - 0s - loss: 1.4053 - weighted_acc: 0.5857 - val_loss: 1.4611 - val_weighted_acc: 0.5480\n",
      "Epoch 9/200\n",
      " - 0s - loss: 1.3609 - weighted_acc: 0.5714 - val_loss: 1.4087 - val_weighted_acc: 0.5680\n",
      "Epoch 10/200\n",
      " - 0s - loss: 1.3579 - weighted_acc: 0.5857 - val_loss: 1.3573 - val_weighted_acc: 0.5920\n",
      "Epoch 11/200\n",
      " - 0s - loss: 1.2869 - weighted_acc: 0.6500 - val_loss: 1.3071 - val_weighted_acc: 0.6240\n",
      "Epoch 12/200\n",
      " - 0s - loss: 1.2635 - weighted_acc: 0.6214 - val_loss: 1.2588 - val_weighted_acc: 0.6660\n",
      "Epoch 13/200\n",
      " - 0s - loss: 1.1826 - weighted_acc: 0.7214 - val_loss: 1.2126 - val_weighted_acc: 0.6780\n",
      "Epoch 14/200\n",
      " - 0s - loss: 1.1734 - weighted_acc: 0.6643 - val_loss: 1.1688 - val_weighted_acc: 0.6960\n",
      "Epoch 15/200\n",
      " - 0s - loss: 1.1272 - weighted_acc: 0.6500 - val_loss: 1.1274 - val_weighted_acc: 0.7100\n",
      "Epoch 16/200\n",
      " - 0s - loss: 1.0969 - weighted_acc: 0.6571 - val_loss: 1.0887 - val_weighted_acc: 0.7100\n",
      "Epoch 17/200\n",
      " - 0s - loss: 1.0127 - weighted_acc: 0.6786 - val_loss: 1.0530 - val_weighted_acc: 0.7200\n",
      "Epoch 18/200\n",
      " - 0s - loss: 1.0107 - weighted_acc: 0.7286 - val_loss: 1.0217 - val_weighted_acc: 0.7240\n",
      "Epoch 19/200\n",
      " - 0s - loss: 0.9636 - weighted_acc: 0.7286 - val_loss: 0.9936 - val_weighted_acc: 0.7340\n",
      "Epoch 20/200\n",
      " - 0s - loss: 0.9531 - weighted_acc: 0.6929 - val_loss: 0.9688 - val_weighted_acc: 0.7420\n",
      "Epoch 21/200\n",
      " - 0s - loss: 0.8461 - weighted_acc: 0.7143 - val_loss: 0.9463 - val_weighted_acc: 0.7480\n",
      "Epoch 22/200\n",
      " - 0s - loss: 0.8881 - weighted_acc: 0.7214 - val_loss: 0.9268 - val_weighted_acc: 0.7540\n",
      "Epoch 23/200\n",
      " - 0s - loss: 0.8507 - weighted_acc: 0.7214 - val_loss: 0.9091 - val_weighted_acc: 0.7560\n",
      "Epoch 24/200\n",
      " - 0s - loss: 0.7366 - weighted_acc: 0.7857 - val_loss: 0.8920 - val_weighted_acc: 0.7620\n",
      "Epoch 25/200\n",
      " - 0s - loss: 0.7632 - weighted_acc: 0.7643 - val_loss: 0.8759 - val_weighted_acc: 0.7640\n",
      "Epoch 26/200\n",
      " - 0s - loss: 0.6816 - weighted_acc: 0.7857 - val_loss: 0.8610 - val_weighted_acc: 0.7720\n",
      "Epoch 27/200\n",
      " - 0s - loss: 0.7671 - weighted_acc: 0.7571 - val_loss: 0.8485 - val_weighted_acc: 0.7840\n",
      "Epoch 28/200\n",
      " - 0s - loss: 0.6613 - weighted_acc: 0.8071 - val_loss: 0.8366 - val_weighted_acc: 0.7980\n",
      "Epoch 29/200\n",
      " - 0s - loss: 0.7138 - weighted_acc: 0.7857 - val_loss: 0.8267 - val_weighted_acc: 0.8000\n",
      "Epoch 30/200\n",
      " - 0s - loss: 0.7073 - weighted_acc: 0.8143 - val_loss: 0.8181 - val_weighted_acc: 0.7980\n",
      "Epoch 31/200\n",
      " - 0s - loss: 0.6754 - weighted_acc: 0.8071 - val_loss: 0.8099 - val_weighted_acc: 0.8000\n",
      "Epoch 32/200\n",
      " - 0s - loss: 0.5904 - weighted_acc: 0.8571 - val_loss: 0.8037 - val_weighted_acc: 0.8000\n",
      "Epoch 33/200\n",
      " - 0s - loss: 0.5398 - weighted_acc: 0.8429 - val_loss: 0.7984 - val_weighted_acc: 0.8020\n",
      "Epoch 34/200\n",
      " - 0s - loss: 0.5663 - weighted_acc: 0.8429 - val_loss: 0.7940 - val_weighted_acc: 0.7960\n",
      "Epoch 35/200\n",
      " - 0s - loss: 0.6311 - weighted_acc: 0.8000 - val_loss: 0.7905 - val_weighted_acc: 0.7960\n",
      "Epoch 36/200\n",
      " - 0s - loss: 0.5478 - weighted_acc: 0.8571 - val_loss: 0.7864 - val_weighted_acc: 0.7980\n",
      "Epoch 37/200\n",
      " - 0s - loss: 0.5760 - weighted_acc: 0.8500 - val_loss: 0.7814 - val_weighted_acc: 0.8000\n",
      "Epoch 38/200\n",
      " - 0s - loss: 0.6012 - weighted_acc: 0.8000 - val_loss: 0.7758 - val_weighted_acc: 0.8000\n",
      "Epoch 39/200\n",
      " - 0s - loss: 0.6008 - weighted_acc: 0.8143 - val_loss: 0.7710 - val_weighted_acc: 0.8000\n",
      "Epoch 40/200\n",
      " - 0s - loss: 0.5372 - weighted_acc: 0.8571 - val_loss: 0.7650 - val_weighted_acc: 0.8000\n",
      "Epoch 41/200\n",
      " - 0s - loss: 0.5832 - weighted_acc: 0.8429 - val_loss: 0.7596 - val_weighted_acc: 0.7980\n",
      "Epoch 42/200\n",
      " - 0s - loss: 0.4897 - weighted_acc: 0.8571 - val_loss: 0.7559 - val_weighted_acc: 0.8040\n",
      "Epoch 43/200\n",
      " - 0s - loss: 0.5403 - weighted_acc: 0.8500 - val_loss: 0.7513 - val_weighted_acc: 0.8100\n",
      "Epoch 44/200\n",
      " - 0s - loss: 0.4183 - weighted_acc: 0.9071 - val_loss: 0.7463 - val_weighted_acc: 0.8080\n",
      "Epoch 45/200\n",
      " - 0s - loss: 0.4263 - weighted_acc: 0.8929 - val_loss: 0.7419 - val_weighted_acc: 0.8040\n",
      "Epoch 46/200\n",
      " - 0s - loss: 0.4700 - weighted_acc: 0.8714 - val_loss: 0.7369 - val_weighted_acc: 0.8040\n",
      "Epoch 47/200\n",
      " - 0s - loss: 0.4879 - weighted_acc: 0.8929 - val_loss: 0.7318 - val_weighted_acc: 0.8040\n",
      "Epoch 48/200\n",
      " - 0s - loss: 0.4395 - weighted_acc: 0.8714 - val_loss: 0.7265 - val_weighted_acc: 0.8020\n",
      "Epoch 49/200\n",
      " - 0s - loss: 0.3718 - weighted_acc: 0.9214 - val_loss: 0.7207 - val_weighted_acc: 0.8080\n",
      "Epoch 50/200\n",
      " - 0s - loss: 0.4888 - weighted_acc: 0.8643 - val_loss: 0.7167 - val_weighted_acc: 0.8080\n",
      "Epoch 51/200\n",
      " - 0s - loss: 0.4638 - weighted_acc: 0.8857 - val_loss: 0.7122 - val_weighted_acc: 0.8060\n",
      "Epoch 52/200\n",
      " - 0s - loss: 0.3459 - weighted_acc: 0.9143 - val_loss: 0.7091 - val_weighted_acc: 0.8040\n",
      "Epoch 53/200\n",
      " - 0s - loss: 0.3913 - weighted_acc: 0.8857 - val_loss: 0.7061 - val_weighted_acc: 0.8040\n",
      "Epoch 54/200\n",
      " - 0s - loss: 0.4106 - weighted_acc: 0.8929 - val_loss: 0.7034 - val_weighted_acc: 0.8060\n",
      "Epoch 55/200\n",
      " - 0s - loss: 0.2910 - weighted_acc: 0.9286 - val_loss: 0.7015 - val_weighted_acc: 0.8060\n",
      "Epoch 56/200\n",
      " - 0s - loss: 0.3364 - weighted_acc: 0.9071 - val_loss: 0.7001 - val_weighted_acc: 0.8080\n",
      "Epoch 57/200\n",
      " - 0s - loss: 0.3460 - weighted_acc: 0.9214 - val_loss: 0.6989 - val_weighted_acc: 0.8060\n",
      "Epoch 58/200\n",
      " - 0s - loss: 0.3598 - weighted_acc: 0.9071 - val_loss: 0.6978 - val_weighted_acc: 0.8060\n",
      "Epoch 59/200\n",
      " - 0s - loss: 0.2951 - weighted_acc: 0.9357 - val_loss: 0.6971 - val_weighted_acc: 0.8060\n",
      "Epoch 60/200\n",
      " - 0s - loss: 0.3361 - weighted_acc: 0.9000 - val_loss: 0.6967 - val_weighted_acc: 0.8060\n",
      "Epoch 61/200\n",
      " - 0s - loss: 0.3156 - weighted_acc: 0.9143 - val_loss: 0.6972 - val_weighted_acc: 0.8040\n",
      "Epoch 62/200\n",
      " - 0s - loss: 0.3078 - weighted_acc: 0.9214 - val_loss: 0.6980 - val_weighted_acc: 0.8040\n",
      "Epoch 63/200\n",
      " - 0s - loss: 0.3654 - weighted_acc: 0.8786 - val_loss: 0.6989 - val_weighted_acc: 0.8000\n",
      "Epoch 64/200\n",
      " - 0s - loss: 0.3886 - weighted_acc: 0.8786 - val_loss: 0.7002 - val_weighted_acc: 0.8000\n",
      "Epoch 65/200\n",
      " - 0s - loss: 0.2723 - weighted_acc: 0.9357 - val_loss: 0.7018 - val_weighted_acc: 0.8020\n",
      "Epoch 66/200\n",
      " - 0s - loss: 0.2644 - weighted_acc: 0.9286 - val_loss: 0.7039 - val_weighted_acc: 0.8020\n",
      "Epoch 67/200\n",
      " - 0s - loss: 0.3137 - weighted_acc: 0.9000 - val_loss: 0.7069 - val_weighted_acc: 0.8020\n",
      "Epoch 68/200\n",
      " - 0s - loss: 0.3381 - weighted_acc: 0.9000 - val_loss: 0.7100 - val_weighted_acc: 0.7980\n",
      "Epoch 69/200\n",
      " - 0s - loss: 0.3133 - weighted_acc: 0.9143 - val_loss: 0.7144 - val_weighted_acc: 0.8020\n",
      "Epoch 70/200\n",
      " - 0s - loss: 0.2439 - weighted_acc: 0.9643 - val_loss: 0.7193 - val_weighted_acc: 0.8040\n",
      "Epoch 71/200\n",
      " - 0s - loss: 0.2225 - weighted_acc: 0.9643 - val_loss: 0.7237 - val_weighted_acc: 0.8020\n",
      "Epoch 72/200\n",
      " - 0s - loss: 0.2922 - weighted_acc: 0.9286 - val_loss: 0.7282 - val_weighted_acc: 0.8020\n",
      "Epoch 73/200\n",
      " - 0s - loss: 0.3067 - weighted_acc: 0.9357 - val_loss: 0.7323 - val_weighted_acc: 0.8000\n",
      "Epoch 74/200\n",
      " - 0s - loss: 0.2978 - weighted_acc: 0.9143 - val_loss: 0.7346 - val_weighted_acc: 0.7980\n",
      "Epoch 75/200\n",
      " - 0s - loss: 0.3070 - weighted_acc: 0.9071 - val_loss: 0.7368 - val_weighted_acc: 0.7960\n",
      "Epoch 76/200\n",
      " - 0s - loss: 0.2671 - weighted_acc: 0.9214 - val_loss: 0.7372 - val_weighted_acc: 0.7960\n",
      "Epoch 77/200\n",
      " - 0s - loss: 0.3171 - weighted_acc: 0.8857 - val_loss: 0.7360 - val_weighted_acc: 0.7980\n",
      "Epoch 78/200\n",
      " - 0s - loss: 0.2720 - weighted_acc: 0.9286 - val_loss: 0.7334 - val_weighted_acc: 0.7980\n",
      "Epoch 79/200\n",
      " - 0s - loss: 0.2279 - weighted_acc: 0.9571 - val_loss: 0.7299 - val_weighted_acc: 0.7980\n",
      "Epoch 80/200\n",
      " - 0s - loss: 0.3071 - weighted_acc: 0.8929 - val_loss: 0.7275 - val_weighted_acc: 0.8020\n",
      "Epoch 81/200\n",
      " - 0s - loss: 0.2910 - weighted_acc: 0.9000 - val_loss: 0.7260 - val_weighted_acc: 0.8000\n",
      "Epoch 82/200\n",
      " - 0s - loss: 0.2158 - weighted_acc: 0.9571 - val_loss: 0.7255 - val_weighted_acc: 0.8000\n",
      "Epoch 83/200\n",
      " - 0s - loss: 0.2605 - weighted_acc: 0.9357 - val_loss: 0.7264 - val_weighted_acc: 0.8000\n",
      "Epoch 84/200\n",
      " - 0s - loss: 0.1742 - weighted_acc: 0.9571 - val_loss: 0.7282 - val_weighted_acc: 0.8000\n",
      "Epoch 85/200\n",
      " - 0s - loss: 0.2378 - weighted_acc: 0.9429 - val_loss: 0.7298 - val_weighted_acc: 0.7960\n",
      "Epoch 86/200\n",
      " - 0s - loss: 0.2246 - weighted_acc: 0.9500 - val_loss: 0.7312 - val_weighted_acc: 0.7980\n",
      "Epoch 87/200\n",
      " - 0s - loss: 0.1804 - weighted_acc: 0.9714 - val_loss: 0.7333 - val_weighted_acc: 0.7980\n",
      "Epoch 88/200\n",
      " - 0s - loss: 0.1893 - weighted_acc: 0.9571 - val_loss: 0.7348 - val_weighted_acc: 0.7980\n",
      "Epoch 89/200\n",
      " - 0s - loss: 0.2287 - weighted_acc: 0.9357 - val_loss: 0.7360 - val_weighted_acc: 0.7960\n",
      "Epoch 90/200\n",
      " - 0s - loss: 0.2425 - weighted_acc: 0.9357 - val_loss: 0.7372 - val_weighted_acc: 0.7960\n",
      "Epoch 91/200\n",
      " - 0s - loss: 0.2442 - weighted_acc: 0.9071 - val_loss: 0.7382 - val_weighted_acc: 0.7940\n",
      "Epoch 92/200\n",
      " - 0s - loss: 0.2588 - weighted_acc: 0.9286 - val_loss: 0.7389 - val_weighted_acc: 0.7960\n",
      "Epoch 93/200\n",
      " - 0s - loss: 0.2612 - weighted_acc: 0.9286 - val_loss: 0.7392 - val_weighted_acc: 0.7980\n"
     ]
    }
   ],
   "source": [
    "history = model.fit_generator(\n",
    "    train_gen,\n",
    "    epochs=200,\n",
    "    validation_data=val_gen,\n",
    "    verbose=2,\n",
    "    shuffle=False,  # this should be False, since shuffling data means shuffling the whole graph\n",
    "    callbacks=[es_callback, mc_callback],\n",
    ")"
   ]
  },
  {
   "cell_type": "code",
   "execution_count": 26,
   "metadata": {},
   "outputs": [],
   "source": [
    "import matplotlib.pyplot as plt\n",
    "%matplotlib inline\n",
    "\n",
    "def remove_prefix(text, prefix):\n",
    "    return text[text.startswith(prefix) and len(prefix):]\n",
    "\n",
    "def plot_history(history):\n",
    "    metrics = sorted(set([remove_prefix(m, \"val_\") for m in list(history.history.keys())]))\n",
    "    for m in metrics:\n",
    "        # summarize history for metric m\n",
    "        plt.plot(history.history[m])\n",
    "        plt.plot(history.history['val_' + m])\n",
    "        plt.title(m)\n",
    "        plt.ylabel(m)\n",
    "        plt.xlabel('epoch')\n",
    "        plt.legend(['train', 'validation'], loc='right')\n",
    "        plt.show()"
   ]
  },
  {
   "cell_type": "code",
   "execution_count": 27,
   "metadata": {},
   "outputs": [
    {
     "data": {
      "image/png": "[encoded data removed]",
      "text/plain": [
       "<Figure size 432x288 with 1 Axes>"
      ]
     },
     "metadata": {
      "needs_background": "light"
     },
     "output_type": "display_data"
    },
    {
     "data": {
      "image/png": "[encoded data removed]",
      "text/plain": [
       "<Figure size 432x288 with 1 Axes>"
      ]
     },
     "metadata": {
      "needs_background": "light"
     },
     "output_type": "display_data"
    }
   ],
   "source": [
    "plot_history(history)"
   ]
  },
  {
   "cell_type": "markdown",
   "metadata": {},
   "source": [
    "Reload the saved weights of the best model found during the training (according to validation accuracy)"
   ]
  },
  {
   "cell_type": "code",
   "execution_count": 28,
   "metadata": {},
   "outputs": [],
   "source": [
    "model.load_weights(\"logs/best_model.h5\")"
   ]
  },
  {
   "cell_type": "markdown",
   "metadata": {},
   "source": [
    "Evaluate the best model on the test set"
   ]
  },
  {
   "cell_type": "code",
   "execution_count": 29,
   "metadata": {},
   "outputs": [],
   "source": [
    "test_gen = generator.flow(test_data.index, test_targets)"
   ]
  },
  {
   "cell_type": "code",
   "execution_count": 30,
   "metadata": {},
   "outputs": [
    {
     "name": "stdout",
     "output_type": "stream",
     "text": [
      "\n",
      "Test Set Metrics:\n",
      "\tloss: 0.7492\n",
      "\tweighted_acc: 0.7950\n"
     ]
    }
   ],
   "source": [
    "test_metrics = model.evaluate_generator(test_gen)\n",
    "print(\"\\nTest Set Metrics:\")\n",
    "for name, val in zip(model.metrics_names, test_metrics):\n",
    "    print(\"\\t{}: {:0.4f}\".format(name, val))"
   ]
  },
  {
   "cell_type": "markdown",
   "metadata": {},
   "source": [
    "### Making predictions with the model"
   ]
  },
  {
   "cell_type": "markdown",
   "metadata": {},
   "source": [
    "Now let's get the predictions themselves for all nodes:"
   ]
  },
  {
   "cell_type": "code",
   "execution_count": 31,
   "metadata": {},
   "outputs": [],
   "source": [
    "all_nodes = node_data.index\n",
    "all_gen = generator.flow(all_nodes)\n",
    "all_predictions = model.predict_generator(all_gen)"
   ]
  },
  {
   "cell_type": "markdown",
   "metadata": {},
   "source": [
    "These predictions will be the output of the softmax layer, so to get final categories we'll use the `inverse_transform` method of our target attribute specifcation to turn these values back to the original categories"
   ]
  },
  {
   "cell_type": "code",
   "execution_count": 32,
   "metadata": {},
   "outputs": [],
   "source": [
    "node_predictions = target_encoding.inverse_transform(all_predictions)"
   ]
  },
  {
   "cell_type": "markdown",
   "metadata": {},
   "source": [
    "Let's have a look at a few (note that generator orders nodes according to the order in G.nodes(), so the predictions are ordered like that as well. We thus need to index results as `G.nodes()`"
   ]
  },
  {
   "cell_type": "code",
   "execution_count": 33,
   "metadata": {},
   "outputs": [
    {
     "data": {
      "text/html": [
       "<div>\n",
       "<style scoped>\n",
       "    .dataframe tbody tr th:only-of-type {\n",
       "        vertical-align: middle;\n",
       "    }\n",
       "\n",
       "    .dataframe tbody tr th {\n",
       "        vertical-align: top;\n",
       "    }\n",
       "\n",
       "    .dataframe thead th {\n",
       "        text-align: right;\n",
       "    }\n",
       "</style>\n",
       "<table border=\"1\" class=\"dataframe\">\n",
       "  <thead>\n",
       "    <tr style=\"text-align: right;\">\n",
       "      <th></th>\n",
       "      <th>Predicted</th>\n",
       "      <th>True</th>\n",
       "    </tr>\n",
       "  </thead>\n",
       "  <tbody>\n",
       "    <tr>\n",
       "      <th>35</th>\n",
       "      <td>subject=Genetic_Algorithms</td>\n",
       "      <td>Genetic_Algorithms</td>\n",
       "    </tr>\n",
       "    <tr>\n",
       "      <th>40</th>\n",
       "      <td>subject=Genetic_Algorithms</td>\n",
       "      <td>Genetic_Algorithms</td>\n",
       "    </tr>\n",
       "    <tr>\n",
       "      <th>114</th>\n",
       "      <td>subject=Reinforcement_Learning</td>\n",
       "      <td>Reinforcement_Learning</td>\n",
       "    </tr>\n",
       "    <tr>\n",
       "      <th>117</th>\n",
       "      <td>subject=Reinforcement_Learning</td>\n",
       "      <td>Reinforcement_Learning</td>\n",
       "    </tr>\n",
       "    <tr>\n",
       "      <th>128</th>\n",
       "      <td>subject=Reinforcement_Learning</td>\n",
       "      <td>Reinforcement_Learning</td>\n",
       "    </tr>\n",
       "    <tr>\n",
       "      <th>130</th>\n",
       "      <td>subject=Reinforcement_Learning</td>\n",
       "      <td>Reinforcement_Learning</td>\n",
       "    </tr>\n",
       "    <tr>\n",
       "      <th>164</th>\n",
       "      <td>subject=Theory</td>\n",
       "      <td>Theory</td>\n",
       "    </tr>\n",
       "    <tr>\n",
       "      <th>288</th>\n",
       "      <td>subject=Neural_Networks</td>\n",
       "      <td>Reinforcement_Learning</td>\n",
       "    </tr>\n",
       "    <tr>\n",
       "      <th>424</th>\n",
       "      <td>subject=Neural_Networks</td>\n",
       "      <td>Rule_Learning</td>\n",
       "    </tr>\n",
       "    <tr>\n",
       "      <th>434</th>\n",
       "      <td>subject=Case_Based</td>\n",
       "      <td>Reinforcement_Learning</td>\n",
       "    </tr>\n",
       "    <tr>\n",
       "      <th>463</th>\n",
       "      <td>subject=Genetic_Algorithms</td>\n",
       "      <td>Case_Based</td>\n",
       "    </tr>\n",
       "    <tr>\n",
       "      <th>504</th>\n",
       "      <td>subject=Probabilistic_Methods</td>\n",
       "      <td>Probabilistic_Methods</td>\n",
       "    </tr>\n",
       "    <tr>\n",
       "      <th>506</th>\n",
       "      <td>subject=Probabilistic_Methods</td>\n",
       "      <td>Probabilistic_Methods</td>\n",
       "    </tr>\n",
       "    <tr>\n",
       "      <th>887</th>\n",
       "      <td>subject=Genetic_Algorithms</td>\n",
       "      <td>Genetic_Algorithms</td>\n",
       "    </tr>\n",
       "    <tr>\n",
       "      <th>906</th>\n",
       "      <td>subject=Neural_Networks</td>\n",
       "      <td>Neural_Networks</td>\n",
       "    </tr>\n",
       "    <tr>\n",
       "      <th>910</th>\n",
       "      <td>subject=Neural_Networks</td>\n",
       "      <td>Neural_Networks</td>\n",
       "    </tr>\n",
       "    <tr>\n",
       "      <th>936</th>\n",
       "      <td>subject=Case_Based</td>\n",
       "      <td>Case_Based</td>\n",
       "    </tr>\n",
       "    <tr>\n",
       "      <th>940</th>\n",
       "      <td>subject=Case_Based</td>\n",
       "      <td>Case_Based</td>\n",
       "    </tr>\n",
       "    <tr>\n",
       "      <th>941</th>\n",
       "      <td>subject=Case_Based</td>\n",
       "      <td>Case_Based</td>\n",
       "    </tr>\n",
       "    <tr>\n",
       "      <th>943</th>\n",
       "      <td>subject=Case_Based</td>\n",
       "      <td>Case_Based</td>\n",
       "    </tr>\n",
       "  </tbody>\n",
       "</table>\n",
       "</div>"
      ],
      "text/plain": [
       "                          Predicted                    True\n",
       "35       subject=Genetic_Algorithms      Genetic_Algorithms\n",
       "40       subject=Genetic_Algorithms      Genetic_Algorithms\n",
       "114  subject=Reinforcement_Learning  Reinforcement_Learning\n",
       "117  subject=Reinforcement_Learning  Reinforcement_Learning\n",
       "128  subject=Reinforcement_Learning  Reinforcement_Learning\n",
       "130  subject=Reinforcement_Learning  Reinforcement_Learning\n",
       "164                  subject=Theory                  Theory\n",
       "288         subject=Neural_Networks  Reinforcement_Learning\n",
       "424         subject=Neural_Networks           Rule_Learning\n",
       "434              subject=Case_Based  Reinforcement_Learning\n",
       "463      subject=Genetic_Algorithms              Case_Based\n",
       "504   subject=Probabilistic_Methods   Probabilistic_Methods\n",
       "506   subject=Probabilistic_Methods   Probabilistic_Methods\n",
       "887      subject=Genetic_Algorithms      Genetic_Algorithms\n",
       "906         subject=Neural_Networks         Neural_Networks\n",
       "910         subject=Neural_Networks         Neural_Networks\n",
       "936              subject=Case_Based              Case_Based\n",
       "940              subject=Case_Based              Case_Based\n",
       "941              subject=Case_Based              Case_Based\n",
       "943              subject=Case_Based              Case_Based"
      ]
     },
     "execution_count": 33,
     "metadata": {},
     "output_type": "execute_result"
    }
   ],
   "source": [
    "results = pd.DataFrame(node_predictions, index=G.nodes()).idxmax(axis=1)\n",
    "df = pd.DataFrame({\"Predicted\": results, \"True\": node_data['subject']})\n",
    "df.head(20)"
   ]
  },
  {
   "cell_type": "markdown",
   "metadata": {},
   "source": [
    "## Node embeddings\n",
    "Evaluate node embeddings as activations of the output of GAT layer stack, and visualise them, coloring nodes by their subject label.\n",
    "\n",
    "The GAT embeddings are the output of the GAT layers stack, namely the `x_out` variable. Let's create a new model with the same inputs as we used previously `x_inp` but now the output is the embeddings rather than the predicted class. Additionally note that the weights trained previously are kept in the new model."
   ]
  },
  {
   "cell_type": "code",
   "execution_count": 34,
   "metadata": {},
   "outputs": [],
   "source": [
    "embedding_model = Model(inputs=x_inp, outputs=x_out)"
   ]
  },
  {
   "cell_type": "code",
   "execution_count": 35,
   "metadata": {},
   "outputs": [
    {
     "data": {
      "text/plain": [
       "(2708, 8)"
      ]
     },
     "execution_count": 35,
     "metadata": {},
     "output_type": "execute_result"
    }
   ],
   "source": [
    "emb = embedding_model.predict_generator(all_gen)\n",
    "emb.shape"
   ]
  },
  {
   "cell_type": "code",
   "execution_count": 36,
   "metadata": {},
   "outputs": [],
   "source": [
    "import numpy.linalg as la"
   ]
  },
  {
   "cell_type": "code",
   "execution_count": 37,
   "metadata": {},
   "outputs": [
    {
     "data": {
      "text/plain": [
       "8.839057"
      ]
     },
     "execution_count": 37,
     "metadata": {},
     "output_type": "execute_result"
    }
   ],
   "source": [
    "la.norm(emb, axis=1).max()"
   ]
  },
  {
   "cell_type": "markdown",
   "metadata": {},
   "source": [
    "Project the embeddings to 2d using either TSNE or PCA transform, and visualise, coloring nodes by their subject label"
   ]
  },
  {
   "cell_type": "code",
   "execution_count": 38,
   "metadata": {},
   "outputs": [
    {
     "name": "stderr",
     "output_type": "stream",
     "text": [
      "/Users/doc019/.envs/stellar_dev/lib/python3.6/importlib/_bootstrap.py:219: ImportWarning: can't resolve package from __spec__ or __package__, falling back on __name__ and __path__\n",
      "  return f(*args, **kwds)\n"
     ]
    }
   ],
   "source": [
    "from sklearn.decomposition import PCA\n",
    "from sklearn.manifold import TSNE\n",
    "import pandas as pd\n",
    "import numpy as np"
   ]
  },
  {
   "cell_type": "markdown",
   "metadata": {},
   "source": [
    "Note that the generator orders nodes according to the order in G.nodes(), so we need to re-index node_data"
   ]
  },
  {
   "cell_type": "code",
   "execution_count": 39,
   "metadata": {},
   "outputs": [],
   "source": [
    "X = emb\n",
    "y = np.argmax(target_encoding.transform(node_data.reindex(G.nodes())[[\"subject\"]].to_dict('records')), axis=1)"
   ]
  },
  {
   "cell_type": "code",
   "execution_count": 40,
   "metadata": {},
   "outputs": [],
   "source": [
    "if X.shape[1] > 2:\n",
    "    transform = TSNE #PCA \n",
    "\n",
    "    trans = transform(n_components=2)\n",
    "    emb_transformed = pd.DataFrame(trans.fit_transform(X), index=list(G.nodes()))\n",
    "    emb_transformed['label'] = y\n",
    "else:\n",
    "    emb_transformed = pd.DataFrame(X, index=list(G.nodes()))\n",
    "    emb_transformed = emb_transformed.rename(columns = {'0':0, '1':1})\n",
    "    emb_transformed['label'] = y"
   ]
  },
  {
   "cell_type": "code",
   "execution_count": 41,
   "metadata": {},
   "outputs": [
    {
     "data": {
      "image/png": "[encoded data removed]",
      "text/plain": [
       "<Figure size 504x504 with 1 Axes>"
      ]
     },
     "metadata": {
      "needs_background": "light"
     },
     "output_type": "display_data"
    }
   ],
   "source": [
    "alpha = 0.7\n",
    "\n",
    "fig, ax = plt.subplots(figsize=(7,7))\n",
    "ax.scatter(emb_transformed[0], emb_transformed[1], c=emb_transformed['label'].astype(\"category\"), \n",
    "            cmap=\"jet\", alpha=alpha)\n",
    "ax.set(aspect=\"equal\", xlabel=\"$X_1$\", ylabel=\"$X_2$\")\n",
    "plt.title('{} visualization of GAT embeddings for cora dataset'.format(transform.__name__))\n",
    "plt.show()"
   ]
  },
  {
   "cell_type": "code",
   "execution_count": null,
   "metadata": {},
   "outputs": [],
   "source": []
  },
  {
   "cell_type": "code",
   "execution_count": null,
   "metadata": {},
   "outputs": [],
   "source": []
  }
 ],
 "metadata": {
  "kernelspec": {
   "display_name": "Stellar Dev [3.6]",
   "language": "python",
   "name": "stellar_dev"
  },
  "language_info": {
   "codemirror_mode": {
    "name": "ipython",
    "version": 3
   },
   "file_extension": ".py",
   "mimetype": "text/x-python",
   "name": "python",
   "nbconvert_exporter": "python",
   "pygments_lexer": "ipython3",
   "version": "3.6.5"
  }
 },
 "nbformat": 4,
 "nbformat_minor": 2
}
